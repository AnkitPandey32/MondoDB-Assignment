
### Q1. What is MongoDB? Explain non-relational databases in short. In which scenarios it is preferred to use MongoDB over SQL databases?

**Answer:**

**MongoDB** is a NoSQL database that stores data in flexible, JSON-like documents. This means fields can vary from document to document and data structure can be changed over time. The document model maps to the objects in your application code, making data easy to work with.

**Non-relational databases**, also known as NoSQL databases, are designed to store, retrieve, and manage data that is not structured in a tabular format as relational databases are. They can handle a variety of data types and are optimized for specific use cases like document storage, key-value pairs, wide-column stores, or graph formats.

**Scenarios to prefer MongoDB over SQL databases**:
- **Flexible Schema**: When you need a flexible schema that can evolve with your application.
- **Big Data**: When dealing with large volumes of unstructured data.
- **High Throughput**: When you require high write and read throughput.
- **Distributed Systems**: When you need horizontal scalability and data distribution across multiple servers.
- **Rapid Development**: When you need to develop applications quickly with iterative changes.

### Q2. State and Explain the features of MongoDB.

**Answer:**

Key features of MongoDB include:

- **Flexible Schema**: Allows for the storage of diverse data structures.
- **Document-Oriented**: Data is stored in JSON-like documents.
- **High Performance**: Optimized for read and write operations.
- **Scalability**: Supports horizontal scaling through sharding.
- **Replication**: Provides high availability with replica sets.
- **Aggregation Framework**: Allows for complex data processing and transformation.
- **Indexing**: Supports various types of indexes for efficient query execution.
- **Geospatial Queries**: Offers support for location-based queries.
- **Ad hoc Queries**: Facilitates real-time query and analysis.

### Q3. Write a code to connect MongoDB to Python. Also, create a database and a collection in MongoDB.

**Answer:**

```python
# Install the pymongo package if you haven't already
# !pip install pymongo

from pymongo import MongoClient

# Connect to MongoDB
client = MongoClient('mongodb://localhost:27017/')

# Create a database
db = client['mydatabase']

# Create a collection
collection = db['mycollection']

print("Database and collection created successfully")
```

### Q4. Using the database and the collection created in question number 3, write a code to insert one record, and insert many records. Use the find() and find_one() methods to print the inserted record.

**Answer:**

```python
# Insert one record
one_record = {"name": "John", "age": 30, "city": "New York"}
collection.insert_one(one_record)

# Insert many records
many_records = [
    {"name": "Jane", "age": 25, "city": "San Francisco"},
    {"name": "Peter", "age": 22, "city": "Los Angeles"},
    {"name": "Mike", "age": 32, "city": "Chicago"}
]
collection.insert_many(many_records)

# Find one record
print("Find one:", collection.find_one({"name": "John"}))

# Find all records
print("Find all:")
for record in collection.find():
    print(record)
```

### Q5. Explain how you can use the find() method to query the MongoDB database. Write a simple code to demonstrate this.

**Answer:**

The `find()` method retrieves documents from a collection based on a query filter. If no filter is provided, it returns all documents. It can also accept additional parameters to limit, sort, or project specific fields.

**Example Code:**

```python
# Find all documents where age is greater than 25
query = {"age": {"$gt": 25}}
results = collection.find(query)

print("Documents with age > 25:")
for record in results:
    print(record)
```

### Q6. Explain the sort() method. Give an example to demonstrate sorting in MongoDB.

**Answer:**

The `sort()` method orders the results of a query based on a specified field in ascending (1) or descending (-1) order.

**Example Code:**

```python
# Sort documents by age in ascending order
sorted_results = collection.find().sort("age", 1)

print("Documents sorted by age (ascending):")
for record in sorted_results:
    print(record)
```

### Q7. Explain why delete_one(), delete_many(), and drop() is used.

**Answer:**

- **delete_one()**: Deletes the first document that matches the filter.
- **delete_many()**: Deletes all documents that match the filter.
- **drop()**: Deletes the entire collection.

**Example Code:**

```python
# Delete one document where name is "Peter"
collection.delete_one({"name": "Peter"})

# Delete all documents where age is greater than 30
collection.delete_many({"age": {"$gt": 30}})

# Drop the collection
collection.drop()

print("Deletion operations completed and collection dropped")
```

### Submitting the Assignment

Create your Jupyter notebook with the above sections and code, then push it to a public GitHub repository. Make sure to include clear comments and markdown cells to explain each part.

Example structure in Jupyter Notebook:

```markdown
# MongoDB Assignment

## Q1. What is MongoDB?

### Answer
...

## Q2. Features of MongoDB

### Answer
...

## Q3. Connect MongoDB to Python

### Code
```python
# Python code
```

## Q4. Insert and Query Records

### Code
```python
# Python code
```

## Q5. Query with find()

### Code
```python
# Python code
```

## Q6. Sorting with sort()

### Code
```python
# Python code
```

## Q7. Deleting and Dropping

### Code
```python
# Python code
```
```

